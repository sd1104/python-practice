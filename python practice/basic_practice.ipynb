{
 "cells": [
  {
   "cell_type": "code",
   "execution_count": 213,
   "metadata": {},
   "outputs": [
    {
     "data": {
      "text/plain": [
       "{'john': {'age': 20, 'hobby': 'fishing'},\n",
       " 'mike': {'age': 21, 'hobby': 'singing'}}"
      ]
     },
     "execution_count": 213,
     "metadata": {},
     "output_type": "execute_result"
    }
   ],
   "source": [
    "boys"
   ]
  },
  {
   "cell_type": "code",
   "execution_count": 221,
   "metadata": {},
   "outputs": [
    {
     "name": "stdout",
     "output_type": "stream",
     "text": [
      "john ➡︎ age : 20\n",
      "john ➡︎ hobby : fishing\n",
      "mike ➡︎ age : 21\n",
      "mike ➡︎ hobby : singing\n"
     ]
    }
   ],
   "source": [
    "for key1 in boys:\n",
    "    for key2 in boys[key1]:\n",
    "        print(key1, '➡︎', key2, ':', boys[key1][key2])"
   ]
  },
  {
   "cell_type": "code",
   "execution_count": null,
   "metadata": {},
   "outputs": [],
   "source": []
  }
 ],
 "metadata": {
  "kernelspec": {
   "display_name": "Python 3",
   "language": "python",
   "name": "python3"
  },
  "language_info": {
   "codemirror_mode": {
    "name": "ipython",
    "version": 3
   },
   "file_extension": ".py",
   "mimetype": "text/x-python",
   "name": "python",
   "nbconvert_exporter": "python",
   "pygments_lexer": "ipython3",
   "version": "3.8.3"
  }
 },
 "nbformat": 4,
 "nbformat_minor": 4
}
